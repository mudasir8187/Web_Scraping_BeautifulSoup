{
 "cells": [
  {
   "cell_type": "markdown",
   "metadata": {},
   "source": [
    "# WebScrapping\n",
    "   - Requirements  "
   ]
  },
  {
   "cell_type": "code",
   "execution_count": 1,
   "metadata": {},
   "outputs": [],
   "source": [
    "# pip install beautifulsoup4\n",
    "# pip install requests"
   ]
  },
  {
   "cell_type": "markdown",
   "metadata": {},
   "source": [
    "# Step-1 Importing Libraries"
   ]
  },
  {
   "cell_type": "code",
   "execution_count": 2,
   "metadata": {},
   "outputs": [],
   "source": [
    "import sys\n",
    "import time\n",
    "import requests\n",
    "from bs4 import BeautifulSoup"
   ]
  },
  {
   "cell_type": "markdown",
   "metadata": {},
   "source": [
    "# Step-2 Getting URL which to be Extracted"
   ]
  },
  {
   "cell_type": "code",
   "execution_count": 3,
   "metadata": {},
   "outputs": [],
   "source": [
    "# Here we use the link CriccBuzz Website\n",
    "url='https://www.cricbuzz.com/'"
   ]
  },
  {
   "cell_type": "code",
   "execution_count": 4,
   "metadata": {},
   "outputs": [],
   "source": [
    "try:\n",
    "    page=requests.get(url)\n",
    "except Exception as e:\n",
    "    error_type, error_obj, error_info=sys.exc_info()\n",
    "    print(\"ERROR FOR LINK : \", url)\n",
    "    print(error_type, 'line:', error_info.tb_lineno)\n",
    "\n",
    "time.sleep(2)\n",
    "soup=BeautifulSoup(page.text, 'html.parser')\n",
    "link=soup.find_all('div', attrs={'class': 'cb-nws-intr'})"
   ]
  },
  {
   "cell_type": "code",
   "execution_count": 5,
   "metadata": {},
   "outputs": [
    {
     "data": {
      "text/plain": [
       "[<div class=\"cb-nws-intr\">The New Zealand pacer had surrendered his central contract with the NZC recently</div>,\n",
       " <div class=\"cb-nws-intr\">Shikhar Dhawan, originally named captain for the series, will serve as Rahul's deputy</div>,\n",
       " <div class=\"cb-nws-intr\">The big signings are believed to have been done by the MI management for their Cape Town side, and some of them, it is learnt, are Sam Curran, Livingstone, Rabada and Rashid Khan</div>,\n",
       " <div class=\"cb-nws-intr\">New Zealand sealed the series with a comprehensive 90-run victory</div>,\n",
       " <div class=\"cb-nws-intr\">The visitors produced a dominant batting performance to rack up 189 and backed that up with a disciplined effort to clinch the third T20I</div>,\n",
       " <div class=\"cb-nws-intr\">In his autobiography, Black &amp; White, the former cricketer alleged that he and some other New Zealand players were victims of racism </div>,\n",
       " <div class=\"cb-nws-intr\">On August 13, BCB and Shakib Al Hasan will sit across a table to discuss the superstar's latest transgression. But he's likely to get away with it once again</div>,\n",
       " <div class=\"cb-nws-intr\">The side that won just one game in the inaugural season last year now has three wins in as many fixtures</div>,\n",
       " <div class=\"cb-nws-intr\">Umesh Yadav stars with ball in Middlesex's victory</div>,\n",
       " <div class=\"cb-nws-intr\">The ODIs are WI's last remaining games in the ICC ODI Super League as they seek direct qualification for the 2023 World Cup</div>,\n",
       " <div class=\"cb-nws-intr\">Batting for more than three hours for his 86 in a tour match against England Lions, Zondo showed a level of patience that earned 130 dot balls from the 166 he faced</div>,\n",
       " <div class=\"cb-nws-intr\">Rudi Koertzen, one of the greatest umpires of all time, passed away aged 73</div>,\n",
       " <div class=\"cb-nws-intr\">From being the No. 1 ranked team in 2016 to slipping down in the World Test Championship, there are a couple of key elements that have gone missing</div>,\n",
       " <div class=\"cb-nws-intr\">News byte that you may have otherwise missed</div>,\n",
       " <div class=\"cb-nws-intr\">Ahead of the second edition of The Hundred, we look at the team composition, players' form, tactics and more</div>,\n",
       " <div class=\"cb-nws-intr\">What the three matches against England taught India in the lead-up to the T20 World Cup in Australia</div>,\n",
       " <div class=\"cb-nws-intr\">In this exclusive interview, Australia's batting talisman deconstructs his art of playing spin, the technique, the tempo and more</div>,\n",
       " <div class=\"cb-nws-intr\">Joe Root is a great player - we can say that now, and start to wonder just how far he might go</div>,\n",
       " <div class=\"cb-nws-intr\">You'd be spoilt for choices trying to summarise the impact - both tangible and intangible - Mithali Raj's footprints left on the evolution of the women's sport in India</div>,\n",
       " <div class=\"cb-nws-intr\">The former India fast bowler is back to cricket after having endured a long journey away from the game - of lost money, of anger issues, of alcoholism, of denial and despise towards the game</div>,\n",
       " <div class=\"cb-nws-intr\">How Chandrakant Pandit guided Madhya Pradesh to a historic Ranji Trophy triumph? Read to know more...</div>,\n",
       " <div class=\"cb-nws-intr\">England have been experiencing an unprecedented slew of injuries to their best fast bowlers. What are the unique challenges that have contributed to this injury plague?</div>]"
      ]
     },
     "execution_count": 5,
     "metadata": {},
     "output_type": "execute_result"
    }
   ],
   "source": [
    "link"
   ]
  },
  {
   "cell_type": "code",
   "execution_count": 11,
   "metadata": {},
   "outputs": [
    {
     "name": "stdout",
     "output_type": "stream",
     "text": [
      "The New Zealand pacer had surrendered his central contract with the NZC recently\n",
      "\n",
      "\n",
      "Shikhar Dhawan, originally named captain for the series, will serve as Rahul's deputy\n",
      "\n",
      "\n",
      "The big signings are believed to have been done by the MI management for their Cape Town side, and some of them, it is learnt, are Sam Curran, Livingstone, Rabada and Rashid Khan\n",
      "\n",
      "\n",
      "New Zealand sealed the series with a comprehensive 90-run victory\n",
      "\n",
      "\n",
      "The visitors produced a dominant batting performance to rack up 189 and backed that up with a disciplined effort to clinch the third T20I\n",
      "\n",
      "\n",
      "In his autobiography, Black & White, the former cricketer alleged that he and some other New Zealand players were victims of racism \n",
      "\n",
      "\n",
      "On August 13, BCB and Shakib Al Hasan will sit across a table to discuss the superstar's latest transgression. But he's likely to get away with it once again\n",
      "\n",
      "\n",
      "The side that won just one game in the inaugural season last year now has three wins in as many fixtures\n",
      "\n",
      "\n",
      "Umesh Yadav stars with ball in Middlesex's victory\n",
      "\n",
      "\n",
      "The ODIs are WI's last remaining games in the ICC ODI Super League as they seek direct qualification for the 2023 World Cup\n",
      "\n",
      "\n",
      "Batting for more than three hours for his 86 in a tour match against England Lions, Zondo showed a level of patience that earned 130 dot balls from the 166 he faced\n",
      "\n",
      "\n",
      "Rudi Koertzen, one of the greatest umpires of all time, passed away aged 73\n",
      "\n",
      "\n",
      "From being the No. 1 ranked team in 2016 to slipping down in the World Test Championship, there are a couple of key elements that have gone missing\n",
      "\n",
      "\n",
      "News byte that you may have otherwise missed\n",
      "\n",
      "\n",
      "Ahead of the second edition of The Hundred, we look at the team composition, players' form, tactics and more\n",
      "\n",
      "\n",
      "What the three matches against England taught India in the lead-up to the T20 World Cup in Australia\n",
      "\n",
      "\n",
      "In this exclusive interview, Australia's batting talisman deconstructs his art of playing spin, the technique, the tempo and more\n",
      "\n",
      "\n",
      "Joe Root is a great player - we can say that now, and start to wonder just how far he might go\n",
      "\n",
      "\n",
      "You'd be spoilt for choices trying to summarise the impact - both tangible and intangible - Mithali Raj's footprints left on the evolution of the women's sport in India\n",
      "\n",
      "\n",
      "The former India fast bowler is back to cricket after having endured a long journey away from the game - of lost money, of anger issues, of alcoholism, of denial and despise towards the game\n",
      "\n",
      "\n",
      "How Chandrakant Pandit guided Madhya Pradesh to a historic Ranji Trophy triumph? Read to know more...\n",
      "\n",
      "\n",
      "England have been experiencing an unprecedented slew of injuries to their best fast bowlers. What are the unique challenges that have contributed to this injury plague?\n",
      "\n",
      "\n"
     ]
    }
   ],
   "source": [
    "for i in link:\n",
    "    print(i.text)\n",
    "    print('\\n')\n"
   ]
  },
  {
   "cell_type": "markdown",
   "metadata": {},
   "source": [
    "# 2nd Web site for scraping"
   ]
  },
  {
   "cell_type": "code",
   "execution_count": 12,
   "metadata": {},
   "outputs": [],
   "source": [
    "import sys\n",
    "import time\n",
    "import requests\n",
    "from bs4 import BeautifulSoup"
   ]
  },
  {
   "cell_type": "code",
   "execution_count": 16,
   "metadata": {},
   "outputs": [],
   "source": [
    "try:\n",
    "    page = requests.get(\"https://www.mygreatlearning.com/academy\")\n",
    "except Exception as e:\n",
    "    error_type, error_obj, error_info = sys.exc_info()\n",
    "    print(\"ERROR FOR LINK : \", url)\n",
    "    print(error_type, 'line:', error_info.tb_lineno)\n",
    "\n",
    "time.sleep(2)    \n",
    "soup = BeautifulSoup(page.text, 'html.parser')\n",
    "link = soup.find_all('div', attrs ={'class': 'learn-for-free-testimonial-card-container'})"
   ]
  },
  {
   "cell_type": "code",
   "execution_count": 18,
   "metadata": {},
   "outputs": [
    {
     "name": "stdout",
     "output_type": "stream",
     "text": [
      "\n",
      "\n",
      "\n",
      "The Great Learning Academy provided me the opportunity to learn various courses at my own pace.\n",
      "\n",
      "\n",
      "\n",
      "M\n",
      "\n",
      "\n",
      "Mesfin Getachew Ayele\n",
      "USA\n",
      "\n",
      "\n",
      "\n",
      "\n",
      "\n",
      "The courses I followed were very well organised and clearly presented. Thank you!\n",
      "\n",
      "\n",
      "\n",
      "F\n",
      "\n",
      "\n",
      "Francesco Gabbiani\n",
      "United Kingdom \n",
      "\n",
      "\n",
      "\n",
      "\n",
      "\n",
      "It is such a wonderful learning experience that Great Learning is providing eliminating all limitations and making it possible to access for everyone, everywhere all the time! Thank you Great Learning! \n",
      "\n",
      "\n",
      "\n",
      "R\n",
      "\n",
      "\n",
      "Rahif Bshennaty\n",
      "Oman\n",
      "\n",
      "\n",
      "\n",
      "\n",
      "\n",
      " Great learning has improved my understanding in java and html it has many interesting courses and it's very helpful. Thank you for developing this app/website. \n",
      "\n",
      "\n",
      "\n",
      "M\n",
      "\n",
      "\n",
      "Mercy Sibanda \n",
      "South Africa\n",
      "\n",
      "\n",
      "\n",
      "\n",
      "\n",
      "When i joined Great Learning, I've become a better person. I know something about business and how to practice it. So if u wanna be a great person, just join us!\n",
      "\n",
      "\n",
      "\n",
      "P\n",
      "\n",
      "\n",
      "Panji Muhammad ZH\n",
      "Indonesia\n",
      "\n",
      "\n",
      "\n",
      "\n",
      "\n",
      "I have taken several courses offered by Great Learning, they are up to date and on line. Each course I have taken has helped me develop and been of assistance in my employment.\n",
      "\n",
      "\n",
      "\n",
      "J\n",
      "\n",
      "\n",
      "John Johnson\n",
      "England\n",
      "\n",
      "\n",
      "\n",
      "\n",
      "\n",
      "This academy definitely holds its name as GREAT. It's an awesome experience, learning contents are great. I really do recommend this academy for learning.\n",
      "\n",
      "\n",
      "\n",
      "C\n",
      "\n",
      "\n",
      "Christian Jamel Mateo\n",
      "Philippines\n",
      "\n",
      "\n",
      "\n",
      "\n",
      "\n",
      "The great learning courses are amazing. I've learned a lot and it sharpened my skills. I'm thankful for these courses. \n",
      "\n",
      "\n",
      "\n",
      "B\n",
      "\n",
      "\n",
      "Bradley Downer\n",
      "Guyana\n",
      "\n",
      "\n",
      "\n",
      "\n",
      "\n",
      "This platform is one of the great chances for me to get free certificates, helping me applied for online  relevant jobs in the future.\n",
      "\n",
      "\n",
      "\n",
      "N\n",
      "\n",
      "\n",
      "Ngọc Ngô\n",
      "Vietnam\n",
      "\n",
      "\n",
      "\n",
      "\n",
      "\n",
      "\n"
     ]
    }
   ],
   "source": [
    "for i in link:\n",
    "    print(i.text)\n",
    "    print('\\n')"
   ]
  }
 ],
 "metadata": {
  "kernelspec": {
   "display_name": "Python 3.9.7 ('base')",
   "language": "python",
   "name": "python3"
  },
  "language_info": {
   "codemirror_mode": {
    "name": "ipython",
    "version": 3
   },
   "file_extension": ".py",
   "mimetype": "text/x-python",
   "name": "python",
   "nbconvert_exporter": "python",
   "pygments_lexer": "ipython3",
   "version": "3.9.7"
  },
  "orig_nbformat": 4,
  "vscode": {
   "interpreter": {
    "hash": "3d2c322a9e1081b2be25354856d0c91dca3a7eed4b44bc1016cd72cd19d17e07"
   }
  }
 },
 "nbformat": 4,
 "nbformat_minor": 2
}
